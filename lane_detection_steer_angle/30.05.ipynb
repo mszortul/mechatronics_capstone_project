{
 "cells": [
  {
   "cell_type": "code",
   "execution_count": 76,
   "metadata": {
    "collapsed": true
   },
   "outputs": [],
   "source": [
    "import numpy as np\n",
    "import matplotlib.pyplot as plt\n",
    "import matplotlib.image as mpimg\n",
    "import pandas as pd\n",
    "from scipy import ndimage\n",
    "from scipy import signal\n",
    "from scipy import misc\n",
    "import math\n",
    "import cv2\n",
    "from scipy.signal import argrelextrema\n",
    "from scipy.ndimage.filters import gaussian_filter1d\n",
    "from skimage.feature import peak_local_max\n",
    "from operator import itemgetter"
   ]
  },
  {
   "cell_type": "code",
   "execution_count": 77,
   "metadata": {
    "collapsed": true
   },
   "outputs": [],
   "source": [
    "def rad2deg(rad):\n",
    "    return rad*(180/math.pi)\n",
    "\n",
    "def deg2rad(deg):\n",
    "    return deg*(math.pi/180)\n",
    "\n",
    "def sobel(img):\n",
    "    sh = np.array([[1,0,-1], \n",
    "                   [2,0,-2], \n",
    "                   [1,0,-1]], dtype=np.float)\n",
    "    sv = np.array([[-1,-2,-1], \n",
    "                   [0,0,0], \n",
    "                   [1,2,1]], dtype=np.float)\n",
    "    \n",
    "    gx = cv2.filter2D(img, -1, sh).astype(np.float32)\n",
    "    gy = cv2.filter2D(img, -1, sv).astype(np.float32)\n",
    "    \n",
    "    return (gx, gy)\n",
    "\n",
    "def rgb2gray(rgb):\n",
    "    return np.dot(rgb[...,:3], [0.299, 0.587, 0.114])\n",
    "\n",
    "def gshow(img):\n",
    "    plt.imshow(img, cmap=plt.get_cmap('gray'))\n",
    "    plt.show()"
   ]
  },
  {
   "cell_type": "code",
   "execution_count": 78,
   "metadata": {
    "collapsed": true
   },
   "outputs": [],
   "source": [
    "def tan_mag(gx, gy):\n",
    "    h, w = gx.shape\n",
    "    \n",
    "    tans = np.zeros((h,w))\n",
    "    mags = np.zeros((h,w))\n",
    "    \n",
    "    for y in range(h):\n",
    "        for x in range(w):\n",
    "            tan = rad2deg(math.atan(-gx[y,x] / gy[y,x]))\n",
    "            tans[y,x] = tan\n",
    "            mag = math.sqrt(gy[y,x]**2 + gx[y,x]**2)\n",
    "            mags[y,x] = mag\n",
    "    \n",
    "    return tans, mags"
   ]
  },
  {
   "cell_type": "code",
   "execution_count": 79,
   "metadata": {
    "collapsed": true
   },
   "outputs": [],
   "source": [
    "def pre(im):\n",
    "    im = rgb2gray(im)\n",
    "    im = cv2.GaussianBlur(im, (5,5), 2)\n",
    "    return im"
   ]
  },
  {
   "cell_type": "code",
   "execution_count": 80,
   "metadata": {
    "collapsed": true
   },
   "outputs": [],
   "source": [
    "def plot_vars(tans, mags):\n",
    "    tan_arr = np.zeros_like(tans)\n",
    "    mag_arr = np.zeros_like(mags)\n",
    "    h, w = tans.shape\n",
    "    hist = {}\n",
    "    xs = np.arange(-90, 91, 2)\n",
    "    for x in xs:\n",
    "        hist[x] = 0\n",
    "    tan_l = []\n",
    "    mag_l = []\n",
    "    for y in range(h):\n",
    "        for x in range(w):\n",
    "            if (np.isnan(tans[y,x])):\n",
    "                continue\n",
    "            else:\n",
    "                tan_arr[y,x] = tans[y,x]\n",
    "                mag_arr[y,x] = mags[y,x]\n",
    "                tan_l.append(tans[y,x])\n",
    "                mag_l.append(mags[y,x])\n",
    "                if (int(tans[y,x]) % 2 is 0):\n",
    "                    hist[int(tans[y,x])] += mags[y,x]\n",
    "                else:\n",
    "                    hist[int(tans[y,x]) - 1] += mags[y,x]\n",
    "    \n",
    "    return hist, tan_arr, mag_arr"
   ]
  },
  {
   "cell_type": "code",
   "execution_count": 81,
   "metadata": {
    "collapsed": true
   },
   "outputs": [],
   "source": [
    "def edf_smooth(hist, sigma=9):\n",
    "    k = []\n",
    "    v = []\n",
    "    for co in hist.items():\n",
    "        k.append(co[0])\n",
    "        v.append(co[1])\n",
    "    new_k = []\n",
    "    c = -90\n",
    "    while c <= 90:\n",
    "        new_k.append(c)\n",
    "        c += 0.5\n",
    "    new_v = []\n",
    "    for i in range(90):\n",
    "        diff = v[i+1] - v[i]\n",
    "        step = diff/4\n",
    "        for j in range(4):\n",
    "            new_v.append(v[i] + step * j)\n",
    "    new_v.append(0.0)\n",
    "    smoothy = gaussian_filter1d(new_v, sigma)\n",
    "    smoothx = new_k\n",
    "    \n",
    "    return smoothx, smoothy"
   ]
  },
  {
   "cell_type": "code",
   "execution_count": 82,
   "metadata": {
    "collapsed": true
   },
   "outputs": [],
   "source": [
    "def edf_comp(img, title='test', sigma=13, ret=True):\n",
    "    gray_blur = pre(img)\n",
    "    gx, gy = sobel(gray_blur)\n",
    "    tans, mags = tan_mag(gx, gy)\n",
    "    hist, tan_arr, mag_arr = plot_vars(tans, mags)\n",
    "    x, y = edf_smooth(hist, sigma=sigma)\n",
    "    plt.plot(x, y)\n",
    "    plt.show()\n",
    "    if ret:\n",
    "        return y, tan_arr, mag_arr\n",
    "    \n",
    "def get_maxima(y):\n",
    "    x = np.linspace(-90, 90, 360)\n",
    "    maxm = argrelextrema(y, np.greater)\n",
    "    maxm = x[maxm]\n",
    "    return maxm\n",
    "\n",
    "def filter_maxima(maxm):\n",
    "    valid_matches = []\n",
    "    l = maxm.shape[0]\n",
    "    fp = 0\n",
    "    lp = l-1\n",
    "    while (lp is not fp) and (lp > fp):\n",
    "        diff = abs(maxm[fp] + maxm[lp])\n",
    "        if diff < 20.0:\n",
    "            valid_matches.append(fp)\n",
    "            valid_matches.append(lp)\n",
    "            fp += 1\n",
    "            lp -= 1\n",
    "        else:\n",
    "            if abs(maxm[fp] > maxm[lp]):\n",
    "                fp += 1\n",
    "            else:\n",
    "                lp -= 1\n",
    "                \n",
    "    return maxm[valid_matches]\n",
    "\n",
    "def single_edge_image(tan_arr, mag_arr, alpha):\n",
    "    h, w = tan_arr.shape\n",
    "    single_edge_image = np.zeros_like(mag_arr)\n",
    "    for y in range(h):\n",
    "        for x in range(w):\n",
    "            if abs(tan_arr[y,x] - alpha) < 2.0:\n",
    "                single_edge_image[y,x] = mag_arr[y,x]\n",
    "                \n",
    "    return single_edge_image"
   ]
  },
  {
   "cell_type": "code",
   "execution_count": 83,
   "metadata": {
    "collapsed": true
   },
   "outputs": [],
   "source": [
    "def get_edges_thetas(y, tan_arr, mag_arr):\n",
    "    maxm = np.sort(get_maxima(y))\n",
    "    vm = np.sort(filter_maxima(maxm))\n",
    "    edges = []\n",
    "    for i in range(vm.shape[0]):\n",
    "        edges.append(single_edge_image(tan_arr, mag_arr, vm[i]))\n",
    "    return edges, vm"
   ]
  },
  {
   "cell_type": "code",
   "execution_count": 85,
   "metadata": {},
   "outputs": [
    {
     "name": "stderr",
     "output_type": "stream",
     "text": [
      "C:\\Users\\ms\\Anaconda3\\lib\\site-packages\\ipykernel_launcher.py:9: RuntimeWarning: invalid value encountered in float_scalars\n",
      "  if __name__ == '__main__':\n",
      "C:\\Users\\ms\\Anaconda3\\lib\\site-packages\\ipykernel_launcher.py:9: RuntimeWarning: divide by zero encountered in float_scalars\n",
      "  if __name__ == '__main__':\n"
     ]
    },
    {
     "data": {
      "image/png": "[encoded data removed]",
      "text/plain": [
       "<matplotlib.figure.Figure at 0x1e3a64ab208>"
      ]
     },
     "metadata": {},
     "output_type": "display_data"
    },
    {
     "name": "stdout",
     "output_type": "stream",
     "text": [
      "[-76.9637883  -36.35097493  54.90250696  74.45682451]\n",
      "[-76.9637883  -36.35097493   1.25348189  54.90250696  74.45682451]\n"
     ]
    }
   ],
   "source": [
    "img = mpimg.imread('img/road.png')\n",
    "y, tan_arr, mag_arr = edf_comp(img, 'Road')\n",
    "maxm = np.sort(get_maxima(y))\n",
    "vm = np.sort(filter_maxima(maxm))\n",
    "edges = []\n",
    "print(vm)\n",
    "for i in range(vm.shape[0]):\n",
    "    edges.append(single_edge_image(tan_arr, mag_arr, vm[i]))\n",
    "#for edge in edges:\n",
    "    #gshow(edge)\n",
    "print(maxm)"
   ]
  },
  {
   "cell_type": "code",
   "execution_count": 86,
   "metadata": {},
   "outputs": [],
   "source": [
    "def vm_to_hough(vm):\n",
    "    ret = np.zeros_like(vm)\n",
    "    for i in range(vm.shape[0]):\n",
    "        if vm[i] < 0:\n",
    "            ret[i] = -90 - vm[i]\n",
    "        else:\n",
    "            ret[i] = 90 - vm[i]\n",
    "    return ret\n",
    "\n",
    "\n",
    "def weighted_hough(edge_img, theta, mag_arr):\n",
    "    t = deg2rad(theta)\n",
    "    h, w = edge_img.shape\n",
    "    diag = int(math.ceil(math.sqrt(h**2 + w**2)))\n",
    "    acc = np.zeros(2*diag+1)\n",
    "    for y in range(h):\n",
    "        for x in range(w):\n",
    "            if edge_img[y,x] > 0:\n",
    "                rho = int((y * math.sin(t) + x * math.cos(t)) + diag)\n",
    "                acc[rho] += mag_arr[y,x]\n",
    "                \n",
    "    return acc, diag, theta"
   ]
  },
  {
   "cell_type": "code",
   "execution_count": 143,
   "metadata": {
    "collapsed": true
   },
   "outputs": [],
   "source": [
    "def line(rho, alpha, h, w, thicc=5):\n",
    "    line_im = np.zeros((h, w)).astype(np.uint8)\n",
    "    point_list = []\n",
    "    for x in range(w):\n",
    "        y = int( -x / math.tan(alpha * (math.pi/180)) + (rho / (math.sin(alpha*(math.pi/180)))))\n",
    "        if (y < h and y >= 0):\n",
    "            point_list.append((x, y))\n",
    "    \n",
    "    point_list.sort(key=itemgetter(1))\n",
    "    last = len(point_list) - 1\n",
    "    cv2.line(line_im, point_list[0], point_list[last], (255,255,255), thickness=thicc)\n",
    "    return line_im\n",
    "\n",
    "def draw_on_img(gray, edges, vm, mag_arr):\n",
    "    gray_lines = np.copy(gray)\n",
    "    h, w = gray.shape\n",
    "    h_degs = vm_to_hough(vm)\n",
    "    for i in range(len(edges)):\n",
    "        edge_im = edges[i]\n",
    "        theta = h_degs[i]\n",
    "        acc, diag, theta = weighted_hough(edge_im, theta, mag_arr)\n",
    "        smooth_acc = gaussian_filter1d(acc, sigma=51)\n",
    "        x = np.arange(0, 2*diag+1, 1)\n",
    "        maxm = argrelextrema(smooth_acc, np.greater)\n",
    "        maxm = x[maxm]\n",
    "        \n",
    "        points = []\n",
    "        for maxima in maxm:\n",
    "            points.append((maxima, smooth_acc[maxima]))\n",
    "        points.sort(key=itemgetter(1))\n",
    "        \n",
    "        rho = points[-1][0] - diag\n",
    "        \n",
    "        line_img = line(rho, theta, h, w)\n",
    "        gray_lines += line_img\n",
    "    \n",
    "    return gray_lines"
   ]
  },
  {
   "cell_type": "code",
   "execution_count": 134,
   "metadata": {},
   "outputs": [],
   "source": [
    "mod = vm_to_hough(vm)\n",
    "ac, d, t = weighted_hough(edges[1], mod[1], mag_arr)"
   ]
  },
  {
   "cell_type": "code",
   "execution_count": 144,
   "metadata": {},
   "outputs": [
    {
     "name": "stdout",
     "output_type": "stream",
     "text": [
      "[  3 335]\n"
     ]
    },
    {
     "data": {
      "image/png": "[encoded data removed]",
      "text/plain": [
       "<matplotlib.figure.Figure at 0x1e3a63a01d0>"
      ]
     },
     "metadata": {},
     "output_type": "display_data"
    },
    {
     "name": "stdout",
     "output_type": "stream",
     "text": [
      "-273\n"
     ]
    }
   ],
   "source": [
    "sm = gaussian_filter1d(ac, sigma=51)\n",
    "maxm = argrelextrema(sm, np.greater)\n",
    "maxm = x[maxm]\n",
    "print(maxm)\n",
    "\n",
    "plt.plot(sm)\n",
    "plt.scatter(maxm[0], sm[maxm[0]])\n",
    "plt.show()\n",
    "\n",
    "r_val = maxm[0] - d\n",
    "print(r_val)"
   ]
  },
  {
   "cell_type": "code",
   "execution_count": 136,
   "metadata": {},
   "outputs": [],
   "source": [
    "def line(rho, alpha, h, w, thicc=5):\n",
    "    line_im = np.zeros((h, w)).astype(np.uint8)\n",
    "    point_list = []\n",
    "    for x in range(w):\n",
    "        y = int( -x / math.tan(alpha * (math.pi/180)) + (rho / (math.sin(alpha*(math.pi/180)))))\n",
    "        if (y < h and y >= 0):\n",
    "            point_list.append((x, y))\n",
    "    \n",
    "    point_list.sort(key=itemgetter(1))\n",
    "    last = len(point_list) - 1\n",
    "    if last>=0:\n",
    "        cv2.line(line_im, point_list[0], point_list[last], (255,255,255), thickness=thicc)\n",
    "    return line_im"
   ]
  },
  {
   "cell_type": "code",
   "execution_count": 137,
   "metadata": {},
   "outputs": [],
   "source": [
    "h, w = mag_arr.shape\n",
    "l = line(r_val, t, h, w)"
   ]
  },
  {
   "cell_type": "code",
   "execution_count": 118,
   "metadata": {},
   "outputs": [
    {
     "data": {
      "image/png": "[encoded data removed]",
      "text/plain": [
       "<matplotlib.figure.Figure at 0x1e3a644dc88>"
      ]
     },
     "metadata": {},
     "output_type": "display_data"
    }
   ],
   "source": [
    "gshow(l)"
   ]
  },
  {
   "cell_type": "code",
   "execution_count": 141,
   "metadata": {},
   "outputs": [
    {
     "name": "stderr",
     "output_type": "stream",
     "text": [
      "C:\\Users\\ms\\Anaconda3\\lib\\site-packages\\ipykernel_launcher.py:9: RuntimeWarning: invalid value encountered in float_scalars\n",
      "  if __name__ == '__main__':\n",
      "C:\\Users\\ms\\Anaconda3\\lib\\site-packages\\ipykernel_launcher.py:9: RuntimeWarning: divide by zero encountered in float_scalars\n",
      "  if __name__ == '__main__':\n"
     ]
    },
    {
     "data": {
      "image/png": "[encoded data removed]",
      "text/plain": [
       "<matplotlib.figure.Figure at 0x1e3a7713198>"
      ]
     },
     "metadata": {},
     "output_type": "display_data"
    },
    {
     "name": "stdout",
     "output_type": "stream",
     "text": [
      "110\n",
      "59\n",
      "75\n",
      "99\n"
     ]
    }
   ],
   "source": [
    "test = mpimg.imread('img/road.png')\n",
    "gray = rgb2gray(test)\n",
    "y, tan_arr, mag_arr = edf_comp(test)\n",
    "edges, vm = get_edges_thetas(y, tan_arr, mag_arr)\n",
    "gray_lines = draw_on_img(gray, edges, vm, mag_arr)"
   ]
  },
  {
   "cell_type": "code",
   "execution_count": 142,
   "metadata": {},
   "outputs": [
    {
     "data": {
      "image/png": "[encoded data removed]",
      "text/plain": [
       "<matplotlib.figure.Figure at 0x1e3a62fe9e8>"
      ]
     },
     "metadata": {},
     "output_type": "display_data"
    },
    {
     "data": {
      "image/png": "[encoded data removed]",
      "text/plain": [
       "<matplotlib.figure.Figure at 0x1e3a773ada0>"
      ]
     },
     "metadata": {},
     "output_type": "display_data"
    },
    {
     "data": {
      "image/png": "[encoded data removed]",
      "text/plain": [
       "<matplotlib.figure.Figure at 0x1e3a6242b70>"
      ]
     },
     "metadata": {},
     "output_type": "display_data"
    },
    {
     "data": {
      "image/png": "[encoded data removed]",
      "text/plain": [
       "<matplotlib.figure.Figure at 0x1e3a0c61278>"
      ]
     },
     "metadata": {},
     "output_type": "display_data"
    },
    {
     "data": {
      "image/png": "[encoded data removed]",
      "text/plain": [
       "<matplotlib.figure.Figure at 0x1e3a62e1e48>"
      ]
     },
     "metadata": {},
     "output_type": "display_data"
    },
    {
     "data": {
      "image/png": "[encoded data removed]",
      "text/plain": [
       "<matplotlib.figure.Figure at 0x1e3a6136ef0>"
      ]
     },
     "metadata": {},
     "output_type": "display_data"
    }
   ],
   "source": [
    "gshow(gray_lines)\n",
    "gshow(gray)\n",
    "for edge in edges:\n",
    "    gshow(edge)"
   ]
  },
  {
   "cell_type": "code",
   "execution_count": null,
   "metadata": {
    "collapsed": true
   },
   "outputs": [],
   "source": []
  },
  {
   "cell_type": "code",
   "execution_count": null,
   "metadata": {},
   "outputs": [],
   "source": []
  },
  {
   "cell_type": "code",
   "execution_count": null,
   "metadata": {
    "collapsed": true
   },
   "outputs": [],
   "source": []
  }
 ],
 "metadata": {
  "kernelspec": {
   "display_name": "Python 3",
   "language": "python",
   "name": "python3"
  },
  "language_info": {
   "codemirror_mode": {
    "name": "ipython",
    "version": 3
   },
   "file_extension": ".py",
   "mimetype": "text/x-python",
   "name": "python",
   "nbconvert_exporter": "python",
   "pygments_lexer": "ipython3",
   "version": "3.6.1"
  }
 },
 "nbformat": 4,
 "nbformat_minor": 2
}
