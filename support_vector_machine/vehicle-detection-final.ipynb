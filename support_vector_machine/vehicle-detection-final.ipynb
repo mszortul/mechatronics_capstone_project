{
 "cells": [
  {
   "cell_type": "code",
   "execution_count": 1,
   "metadata": {},
   "outputs": [
    {
     "name": "stdout",
     "output_type": "stream",
     "text": [
      "[MoviePy] >>>> Building video project_video_proc_allblur5gauss_327.mp4\n",
      "[MoviePy] Writing video project_video_proc_allblur5gauss_327.mp4\n"
     ]
    },
    {
     "name": "stderr",
     "output_type": "stream",
     "text": [
      "100%|█████████████████████████████████████████████████████████████████████████████▉| 1260/1261 [18:55<00:00,  1.01it/s]\n"
     ]
    },
    {
     "name": "stdout",
     "output_type": "stream",
     "text": [
      "[MoviePy] Done.\n",
      "[MoviePy] >>>> Video ready: project_video_proc_allblur5gauss_327.mp4 \n",
      "\n"
     ]
    }
   ],
   "source": [
    "from run_sdcar import *"
   ]
  },
  {
   "cell_type": "code",
   "execution_count": 2,
   "metadata": {
    "collapsed": true
   },
   "outputs": [],
   "source": [
    "sample = cv2.imread('test_images/test1.jpg')\n",
    "\n",
    "svc = joblib.load('pickles/svm_gray.pkl')\n",
    "X_scaler = joblib.load('pickles/svm_scaler_gray.pkl')\n",
    "pca = joblib.load('pickles/svm_pca_gray.pkl')\n",
    "\n",
    "windows_atScale, windows = raw_and_scaled_windows(sample)\n",
    "\n",
    "\n",
    "def process_frame(img, svc=svc, X_scaler=X_scaler, pca=pca, imgScales=[1.0, 0.8, 0.65, 0.45], \n",
    "                  windowOverlap=0.8, windows_atScale=windows_atScale, windows=windows):\n",
    "    \n",
    "    # sliding windows creation\n",
    "    global heatmap_arr\n",
    "    \n",
    "    heat = np.zeros_like(img[:,:,0]).astype(np.float)\n",
    "    img_size = img.shape\n",
    "    imgs = []\n",
    "    imgCvt = convert_color(img, 'GRAY')\n",
    "    \n",
    "    factor_i = 0\n",
    "    for scaleFac in imgScales:\n",
    "        \n",
    "        x_scaled = int(img_size[1]*scaleFac) #576\n",
    "        y_scaled = int(img_size[0]*scaleFac) #324\n",
    "        img_scaled = cv2.resize(imgCvt, (x_scaled, y_scaled))\n",
    "        \n",
    "        imgs.extend(get_window_imgs(img_scaled, windows_atScale[factor_i], resize=True))\n",
    "        factor_i += 1\n",
    "        \n",
    "    # awkward: setting colorspace to BGR to circumvent cvtColor call\n",
    "    features = hog_from_list_gray(imgs)#-------------------------------------------------------# expensive comp #1\n",
    "    X = np.vstack((features)).astype(np.float64)\n",
    "    scaled_X = X_scaler.transform(X)\n",
    "    #scaled_X = pca.transform(scaled_X) #-------------------------------------------------------# expensive comp #2\n",
    "    \n",
    "    pred_bin = svc.predict(scaled_X)\n",
    "    \n",
    "    \n",
    "    \n",
    "    ind = [x for x in range(len(pred_bin)) if pred_bin[x]==1]\n",
    "    hot_windows = [windows[i] for i in ind]\n",
    "    \n",
    "    # Add heat to each box in box list\n",
    "    heat = add_heat(heat, hot_windows)\n",
    "    \n",
    "    # Apply threshold to help remove false positives for current frame\n",
    "    heat = apply_threshold(heat, 3)\n",
    "    heatmap_arr.append(heat)\n",
    "    if len(heatmap_arr) > heatmap_filterSize:\n",
    "        heatmap_arr = heatmap_arr[1:]\n",
    "    heat_combined = np.zeros_like(img[:,:,0]).astype(np.float)\n",
    "    \n",
    "    for i in range(len(heatmap_arr)):\n",
    "        heat_combined = heat_combined + heatmap_arr[i]\n",
    "    heat_combined = apply_threshold(heat_combined,5)\n",
    "    \n",
    "    # Visualize the heatmap when displaying\n",
    "    heatmap = np.clip(heat_combined, 0, 255)\n",
    "    #heatmap = np.clip(heat, 0, 255)\n",
    "    labels = label(heatmap)\n",
    "    \n",
    "    return heatmap, labels, hot_windows"
   ]
  },
  {
   "cell_type": "code",
   "execution_count": 3,
   "metadata": {
    "collapsed": true
   },
   "outputs": [],
   "source": [
    "def process_vidFrame(img, outputDebug=False, boxOnlyOutput=False):\n",
    "    \n",
    "    global frame_i\n",
    "    global cars_ar\n",
    "    frame_i += 1\n",
    "    \n",
    "    heatmap, labels, hot_windows = process_frame(img)\n",
    "    \n",
    "    \n",
    "    for car_number in range(1, max(len(cars_ar), labels[1])+1):\n",
    "        nonzero = (labels[0] == car_number).nonzero()\n",
    "        # Identify x and y values of those pixels\n",
    "        nonzeroy = np.array(nonzero[0])\n",
    "        nonzerox = np.array(nonzero[1])\n",
    "        if len(nonzerox):\n",
    "            # cut off tiny bounding boxes\n",
    "            if ((max(nonzerox) - min(nonzerox)) / (max(nonzeroy) - min(nonzeroy))) > 0.65:\n",
    "                # Define a bounding box based on min/max x and y\n",
    "                bbox = ((np.min(nonzerox), np.min(nonzeroy)), (np.max(nonzerox), np.max(nonzeroy)))\n",
    "            else:\n",
    "                bbox = None\n",
    "        else:\n",
    "            bbox = None\n",
    "        if len(cars_ar) < car_number:\n",
    "            cars_ar.append(Car())\n",
    "        cars_ar[car_number-1].updatePos(bbox)\n",
    "    \n",
    "    \n",
    "    #label_img = vehicleUtil.draw_labeled_bboxes(np.copy(img), labels)\n",
    "    label_img = draw_labeled_car_boxes(img, cars_ar)\n",
    "    \n",
    "    if outputDebug:\n",
    "        imgSize = (720, 1280 , 3)\n",
    "        out_img = np.zeros(imgSize, dtype=np.uint8)\n",
    "\n",
    "        smallFinal = cv2.resize(label_img, (0,0), fx=0.5, fy=0.5)\n",
    "        smallFinalSize = (smallFinal.shape[1], smallFinal.shape[0])\n",
    "        out_img[0:smallFinalSize[1], 0:smallFinalSize[0]] = smallFinal\n",
    "\n",
    "        heatmap = heatmap*(255/8)\n",
    "        heatmap = np.clip(heatmap, 0, 255)\n",
    "        heatmap = np.dstack((heatmap, heatmap, heatmap))\n",
    "        smallHeat = cv2.resize(heatmap, (0,0), fx=0.5, fy=0.5)\n",
    "        smallHeatSize = (smallHeat.shape[1], smallHeat.shape[0])\n",
    "        out_img[0:smallHeatSize[1], smallFinalSize[0]:smallFinalSize[0]+smallHeatSize[0]] = smallHeat\n",
    "\n",
    "        window_img = draw_boxes(img, hot_windows, color=(0, 0, 255), thick=6)\n",
    "        rawWindows = cv2.resize(window_img, (0,0), fx=0.5, fy=0.5)\n",
    "        rawWindowsSize = (rawWindows.shape[1], rawWindows.shape[0])\n",
    "        out_img[smallFinalSize[1]:smallFinalSize[1]+rawWindowsSize[1], smallFinalSize[0]:smallFinalSize[0]+rawWindowsSize[0]] = rawWindows\n",
    "    else:\n",
    "        img = convert_color(img, 'RGB')\n",
    "        window_img = draw_boxes(img, hot_windows)\n",
    "        out_img = window_img\n",
    "    \n",
    "    if boxOnlyOutput:\n",
    "        return cars_ar\n",
    "    return out_img"
   ]
  },
  {
   "cell_type": "code",
   "execution_count": 76,
   "metadata": {},
   "outputs": [
    {
     "name": "stdout",
     "output_type": "stream",
     "text": [
      "[MoviePy] >>>> Building video test_video_proc_svm_gray_wind.mp4\n",
      "[MoviePy] Writing video test_video_proc_svm_gray_wind.mp4\n"
     ]
    },
    {
     "name": "stderr",
     "output_type": "stream",
     "text": [
      " 97%|███████████████████████████████████████████████████████████████████████████████▉  | 38/39 [00:32<00:00,  1.34it/s]\n"
     ]
    },
    {
     "name": "stdout",
     "output_type": "stream",
     "text": [
      "[MoviePy] Done.\n",
      "[MoviePy] >>>> Video ready: test_video_proc_svm_gray_wind.mp4 \n",
      "\n"
     ]
    }
   ],
   "source": [
    "file = 'test_video.mp4'\n",
    "clip = VideoFileClip(file)\n",
    "\n",
    "proc_clip = clip.fl_image(process_vidFrame)\n",
    "proc_output = '{}_proc_svm_gray_wind.mp4'.format(file.split('.')[0])\n",
    "proc_clip.write_videofile(proc_output, audio=False)"
   ]
  },
  {
   "cell_type": "code",
   "execution_count": 56,
   "metadata": {},
   "outputs": [
    {
     "name": "stdout",
     "output_type": "stream",
     "text": [
      "file = test_images/test1.jpg \n",
      "color_space = GRAY \n",
      "quality = MAX \n",
      "hog_time =  0.33858466148376465\n",
      "file = test_images/test1.jpg \n",
      "color_space = GRAY \n",
      "quality = DECREASED \n",
      "hog_time =  0.30033254623413086\n"
     ]
    }
   ],
   "source": [
    "file = 'test_images/test1.jpg'\n",
    "cspace = 'GRAY'\n",
    "\n",
    "sample = cv2.imread(file)\n",
    "gray = convert_color(im, cspace)\n",
    "\n",
    "#fig = plt.figure(figsize=(20,10))\n",
    "#plt.imshow(gray, cmap='gray')\n",
    "#plt.show()\n",
    "\n",
    "t1 = time.time()\n",
    "feat_gray = hog_short(gray)\n",
    "t2 = time.time()\n",
    "\n",
    "print('file =', file, '\\ncolor_space =', cspace, '\\nquality = MAX', '\\nhog_time = ', t2-t1)\n",
    "\n",
    "\n",
    "blurred = cv2.GaussianBlur(gray, (51,51), sigmaX=5, sigmaY=5)\n",
    "\n",
    "#fig = plt.figure(figsize=(20,10))\n",
    "#plt.imshow(blurred, cmap='gray')\n",
    "#plt.show()\n",
    "\n",
    "t1 = time.time()\n",
    "feat_blur = hog_short(blurred)\n",
    "t2 = time.time()\n",
    "\n",
    "print('file =', file, '\\ncolor_space =', cspace, '\\nquality = DECREASED', '\\nhog_time = ', t2-t1)"
   ]
  },
  {
   "cell_type": "code",
   "execution_count": 5,
   "metadata": {},
   "outputs": [
    {
     "name": "stdout",
     "output_type": "stream",
     "text": [
      "project_video_proc_lab_512.mp4\n"
     ]
    }
   ],
   "source": [
    "th1 = 5\n",
    "th2 = 12\n",
    "file = 'project_video.mp4'\n",
    "proc_output = 'project_video_proc_lab_'+str(th1)+str(th2)+'.mp4'\n",
    "print(proc_output)"
   ]
  },
  {
   "cell_type": "code",
   "execution_count": 4,
   "metadata": {},
   "outputs": [
    {
     "data": {
      "text/plain": [
       "True"
      ]
     },
     "execution_count": 4,
     "metadata": {},
     "output_type": "execute_result"
    }
   ],
   "source": [
    "a = np.array([1,2,3])\n",
    "type(a) == np.ndarray"
   ]
  },
  {
   "cell_type": "code",
   "execution_count": null,
   "metadata": {
    "collapsed": true
   },
   "outputs": [],
   "source": []
  }
 ],
 "metadata": {
  "kernelspec": {
   "display_name": "Python 3",
   "language": "python",
   "name": "python3"
  },
  "language_info": {
   "codemirror_mode": {
    "name": "ipython",
    "version": 3
   },
   "file_extension": ".py",
   "mimetype": "text/x-python",
   "name": "python",
   "nbconvert_exporter": "python",
   "pygments_lexer": "ipython3",
   "version": "3.6.1"
  }
 },
 "nbformat": 4,
 "nbformat_minor": 2
}
