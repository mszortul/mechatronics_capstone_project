{
 "cells": [
  {
   "cell_type": "code",
   "execution_count": 1,
   "metadata": {
    "collapsed": true
   },
   "outputs": [],
   "source": [
    "from aux_functions import *"
   ]
  },
  {
   "cell_type": "code",
   "execution_count": 2,
   "metadata": {
    "collapsed": true
   },
   "outputs": [],
   "source": [
    "# training image pathnames for glob\n",
    "car_pathname = \"training/vehicles/**/*.png\"\n",
    "non_car_pathname = \"training/non-vehicles/**/*.png\"\n",
    "\n",
    "# extract pathnames of training images\n",
    "cars = glob.glob(car_pathname, recursive=True)\n",
    "non_cars = glob.glob(non_car_pathname, recursive=True)"
   ]
  },
  {
   "cell_type": "code",
   "execution_count": 3,
   "metadata": {
    "collapsed": true
   },
   "outputs": [],
   "source": [
    "def trainSVC(pos_examples, neg_examples, hog_channel=[0,1,2], cspace='GRAY', savename=''):\n",
    "    # time stamp before feature extraction\n",
    "    t1 = time.time()\n",
    "\n",
    "    # extracting HOG features of cars and non-cars\n",
    "    print('SVM: using {} positive and {} negative examples'.format(len(pos_examples), len(neg_examples)))\n",
    "    print('SVM: extracting features...')\n",
    "    if cspace is 'GRAY':\n",
    "        pos_features = hog_from_file_gray(pos_examples, gaussian_blur=True)\n",
    "        neg_features = hog_from_file_gray(neg_examples, gaussian_blur=True)\n",
    "\n",
    "    else:\n",
    "        pos_features = hog_from_file(pos_examples, hog_channel=hog_channel, cspace=cspace)\n",
    "        neg_features = hog_from_file(neg_examples, hog_channel=hog_channel, cspace=cspace)\n",
    "\n",
    "    # feature vectors stack\n",
    "    X = np.vstack((pos_features, neg_features)).astype(np.float64)\n",
    "    # feature normalize\n",
    "    print('SVM: normalizing features...')\n",
    "    X_scaler = StandardScaler().fit(X)\n",
    "    # apply normalization to X\n",
    "    scaled_X = X_scaler.transform(X)\n",
    "    \n",
    "    # reduce features with pca\n",
    "    pca = decomposition.PCA(n_components=1000)\n",
    "    pca.fit(scaled_X)\n",
    "    scaled_X = pca.transform(scaled_X)\n",
    "\n",
    "\n",
    "    # labels vector\n",
    "    y = np.hstack((np.ones(len(pos_features)), np.zeros(len(neg_features))))\n",
    "    \n",
    "    # time stamp after feature extraction\n",
    "    t2 = time.time()\n",
    "    print('{} seconds to create {} feature vectors of size {}'.format(round(t2-t1, 5),\n",
    "                                                                      len(scaled_X), \n",
    "                                                                      len(scaled_X[0])))\n",
    "\n",
    "    \n",
    "    \n",
    "    #--------------------------------------------------------------------------------------------------#\n",
    "    \n",
    "    \n",
    "    \n",
    "    # split training and test sets randomly\n",
    "    print('SVM: splitting train/validation data...')\n",
    "    rand_state = np.random.randint(0,100)\n",
    "    X_train, X_test, y_train, y_test = train_test_split(scaled_X, y, test_size=0.1, random_state=rand_state)\n",
    "\n",
    "    # create linear svc object\n",
    "    print('SVM: Training model...')\n",
    "    svc = LinearSVC()\n",
    "\n",
    "    # create time stamps before and after training\n",
    "    t1 = time.time()\n",
    "    svc.fit(X_train, y_train)\n",
    "    t2 = time.time()\n",
    "    print(round(t2-t1, 2), 'Seconds to train SVM...')\n",
    "    print('Test Accuracy of SVC = ', round(svc.score(X_test, y_test), 4))\n",
    "    \n",
    "    print('SVM: Saving model...')\n",
    "    joblib.dump(svc, 'svm_'+savename+'.pkl')\n",
    "    print('svm_'+savename+'.pkl saved.')\n",
    "    joblib.dump(X_scaler, 'svm_scaler_'+savename+'.pkl')\n",
    "    print('svm_scaler_'+savename+'.pkl saved.')\n",
    "    joblib.dump(pca, 'svm_pca_'+savename+'.pkl')\n",
    "    print('svm_pca_'+savename+'.pkl saved.')\n",
    "    print('Done.')\n",
    "    \n",
    "    return svc, X_scaler, X_test, y_test"
   ]
  },
  {
   "cell_type": "code",
   "execution_count": 4,
   "metadata": {},
   "outputs": [
    {
     "name": "stdout",
     "output_type": "stream",
     "text": [
      "SVM: using 8792 positive and 8968 negative examples\n",
      "SVM: extracting features...\n",
      "SVM: normalizing features...\n",
      "94.40169 seconds to create 17760 feature vectors of size 1000\n",
      "SVM: splitting train/validation data...\n",
      "SVM: Training model...\n",
      "5.62 Seconds to train SVM...\n",
      "Test Accuracy of SVC =  0.9499\n",
      "SVM: Saving model...\n",
      "svm_blurred.pkl saved.\n",
      "svm_scaler_blurred.pkl saved.\n",
      "svm_pca_blurred.pkl saved.\n",
      "Done.\n"
     ]
    }
   ],
   "source": [
    "svc, scaler_X, X_test, y_test = trainSVC(cars, non_cars, cspace='GRAY',savename='blurred')"
   ]
  },
  {
   "cell_type": "code",
   "execution_count": 5,
   "metadata": {},
   "outputs": [
    {
     "name": "stdout",
     "output_type": "stream",
     "text": [
      "Test Accuracy of SVC =  0.9499\n",
      "SVC predicts:  [ 0.  0.  1.  0.  0.  1.  1.  0.  0.  0.  0.  1.  1.  1.  1.]\n",
      "Labels         [ 0.  0.  1.  0.  1.  1.  1.  0.  0.  0.  0.  1.  1.  1.  1.]\n",
      "0.01651 Seconds to predict 15 labels with SVC\n"
     ]
    }
   ],
   "source": [
    "# check the score of SVC\n",
    "print('Test Accuracy of SVC = ', round(svc.score(X_test, y_test), 4))\n",
    "# check the prediction time for a single sample\n",
    "t=time.time()\n",
    "numb_predict = 15\n",
    "print('SVC predicts: ', svc.predict(X_test[0:numb_predict]))\n",
    "print('Labels        ', y_test[0:numb_predict])\n",
    "t2 = time.time()\n",
    "print(round(t2-t, 5), 'Seconds to predict', numb_predict,'labels with SVC')"
   ]
  },
  {
   "cell_type": "code",
   "execution_count": 3,
   "metadata": {},
   "outputs": [
    {
     "name": "stdout",
     "output_type": "stream",
     "text": [
      "(1764,)\n"
     ]
    }
   ],
   "source": [
    "test = cv2.imread('test_images/test1.jpg')\n",
    "patch = test[0:64,0:64,0]\n",
    "feat0 = np.ravel(hog_short(patch))\n",
    "print(feat0.shape)"
   ]
  },
  {
   "cell_type": "code",
   "execution_count": 7,
   "metadata": {},
   "outputs": [
    {
     "name": "stdout",
     "output_type": "stream",
     "text": [
      "(1764,)\n"
     ]
    },
    {
     "data": {
      "image/png": "[encoded data removed]",
      "text/plain": [
       "<matplotlib.figure.Figure at 0x2bf5f4e6d68>"
      ]
     },
     "metadata": {},
     "output_type": "display_data"
    },
    {
     "data": {
      "image/png": "[encoded data removed]",
      "text/plain": [
       "<matplotlib.figure.Figure at 0x2bf60581da0>"
      ]
     },
     "metadata": {},
     "output_type": "display_data"
    }
   ],
   "source": [
    "test = cv2.imread('image0009.png')\n",
    "patch = test[0:64,0:64,0]\n",
    "feat0 = np.ravel(hog_short(patch))\n",
    "print(feat0.shape)\n",
    "plt.imshow(test)\n",
    "plt.show()\n",
    "blur = cv2.GaussianBlur(test, (5,5), sigmaX=0)\n",
    "plt.imshow(blur)\n",
    "plt.show()"
   ]
  },
  {
   "cell_type": "code",
   "execution_count": null,
   "metadata": {
    "collapsed": true
   },
   "outputs": [],
   "source": []
  }
 ],
 "metadata": {
  "kernelspec": {
   "display_name": "Python 3",
   "language": "python",
   "name": "python3"
  },
  "language_info": {
   "codemirror_mode": {
    "name": "ipython",
    "version": 3
   },
   "file_extension": ".py",
   "mimetype": "text/x-python",
   "name": "python",
   "nbconvert_exporter": "python",
   "pygments_lexer": "ipython3",
   "version": "3.6.1"
  }
 },
 "nbformat": 4,
 "nbformat_minor": 2
}
