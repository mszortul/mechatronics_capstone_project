{
 "cells": [
  {
   "cell_type": "code",
   "execution_count": 1,
   "metadata": {
    "collapsed": true
   },
   "outputs": [],
   "source": [
    "# HOG usage\n",
    "\n",
    "# skimage.feature.hog(image, orientations=9, pixels_per_cell=(8, 8),\n",
    "# cells_per_block=(3, 3), block_norm='L1', visualize=False, visualise=None, \n",
    "# transform_sqrt=False, feature_vector=True)\n",
    "\n",
    "# orientations = 9\n",
    "# pixels_per_cell = (8,8)\n",
    "# cells_per_block = (2,2)\n",
    "\n",
    "# if visualize == True:\n",
    "#     return feature_vector, hog_image\n",
    "# else:\n",
    "#     return feature_vector"
   ]
  },
  {
   "cell_type": "code",
   "execution_count": 2,
   "metadata": {
    "collapsed": true
   },
   "outputs": [],
   "source": [
    "# glob usage\n",
    "\n",
    "# glob.glob(pathname, recursive=False)"
   ]
  },
  {
   "cell_type": "code",
   "execution_count": 3,
   "metadata": {
    "collapsed": true
   },
   "outputs": [],
   "source": [
    "# some cv2 module constants\n",
    "\n",
    "# cv2.COLOR_RGB2HSV = 41\n",
    "# cv2.COLOR_RGB2LUV = 51\n",
    "# cv2.COLOR_RGB2HLS = 53\n",
    "# cv2.COLOR_RGB2YUV = 83\n",
    "# cv2.COLOR_RGB2YCrCb = 37\n",
    "# cv2.COLOR_RGB2GRAY = 7"
   ]
  },
  {
   "cell_type": "code",
   "execution_count": 47,
   "metadata": {
    "collapsed": true
   },
   "outputs": [],
   "source": [
    "import numpy as np\n",
    "import cv2\n",
    "import matplotlib.image as mpimg\n",
    "import matplotlib.pyplot as plt\n",
    "import glob\n",
    "import os\n",
    "import random\n",
    "from skimage.feature import hog\n",
    "import csv\n",
    "import time\n",
    "import pickle\n",
    "\n",
    "from sklearn.svm import LinearSVC\n",
    "from sklearn.preprocessing import StandardScaler\n",
    "from sklearn.model_selection import train_test_split\n",
    "from sklearn.externals import joblib\n",
    "from sklearn import decomposition"
   ]
  },
  {
   "cell_type": "code",
   "execution_count": 48,
   "metadata": {
    "collapsed": true
   },
   "outputs": [],
   "source": [
    "# training image pathnames for glob\n",
    "car_pathname = \"training/vehicles/**/*.png\"\n",
    "non_car_pathname = \"training/non-vehicles/**/*.png\""
   ]
  },
  {
   "cell_type": "code",
   "execution_count": 49,
   "metadata": {},
   "outputs": [
    {
     "name": "stdout",
     "output_type": "stream",
     "text": [
      "len[cars]     =  8792\n",
      "len[non_cars] =  8968\n"
     ]
    }
   ],
   "source": [
    "# extract pathnames of training images\n",
    "cars = glob.glob(car_pathname, recursive=True)\n",
    "non_cars = glob.glob(non_car_pathname, recursive=True)\n",
    "\n",
    "print(\"len[cars]     = \",len(cars))\n",
    "print(\"len[non_cars] = \", len(non_cars))"
   ]
  },
  {
   "cell_type": "code",
   "execution_count": 50,
   "metadata": {
    "collapsed": true
   },
   "outputs": [],
   "source": [
    "# a function to convert color space from RGB to cspace\n",
    "\n",
    "# cspace = HSV, LUV, HLS, YUV, YCrCb, GRAY\n",
    "\n",
    "def convert_color(img, cspace):\n",
    "    image = np.copy(img)\n",
    "    \n",
    "    constant_dict = {'RGB':cv2.COLOR_BGR2RGB, \n",
    "                     'HSV':cv2.COLOR_BGR2HSV, \n",
    "                     'LUV':cv2.COLOR_BGR2LUV,\n",
    "                     'HLS':cv2.COLOR_BGR2HLS,\n",
    "                     'YUV':cv2.COLOR_BGR2YUV,\n",
    "                     'YCrCb':cv2.COLOR_BGR2YCR_CB,\n",
    "                     'GRAY':cv2.COLOR_BGR2GRAY, \n",
    "                     'RGB2YCrCb':cv2.COLOR_RGB2YCR_CB, \n",
    "                     'BGR':cv2.COLOR_RGB2BGR}\n",
    "    \n",
    "    converted = cv2.cvtColor(image, constant_dict[cspace])\n",
    "    \n",
    "    return converted"
   ]
  },
  {
   "cell_type": "code",
   "execution_count": 37,
   "metadata": {
    "collapsed": true
   },
   "outputs": [],
   "source": [
    "# short version of sklearn.feature.hog()\n",
    "def hog_short(img, vis=False, feature_vector=True):\n",
    "    if vis is True:\n",
    "        features, hog_image = hog(img, orientations=orient, cells_per_block=cell_size, \n",
    "                                  pixels_per_cell=pixels, transform_sqrt=True, visualise=True, \n",
    "                                 feature_vector=feature_vector)\n",
    "        return features, hog_image\n",
    "    \n",
    "    else:\n",
    "        features = hog(img, orientations=orient, cells_per_block=cell_size, \n",
    "                       pixels_per_cell=pixels, transform_sqrt=True, feature_vector=feature_vector)\n",
    "        return features"
   ]
  },
  {
   "cell_type": "code",
   "execution_count": 38,
   "metadata": {
    "collapsed": true
   },
   "outputs": [],
   "source": [
    "# a function to iterate through training examples\n",
    " \n",
    "# it takes pathnames as a list and returns hog feature vectors also as a list\n",
    "# hog_channel = 0,1,2 or ALL\n",
    "\n",
    "def hog_from_file(pathnames, hog_channel=[0,1,2], cspace='YCrCb', feature_vector=True):\n",
    "    # Create a list to append feature vectors to\n",
    "    all_features = []\n",
    "    \n",
    "    for image_path in pathnames:\n",
    "        # read images one by one\n",
    "        image = cv2.imread(image_path)\n",
    "        # convert color space to desired one\n",
    "        feat_img = convert_color(image, cspace)\n",
    "            \n",
    "        # extract features from single image\n",
    "        features = []\n",
    "\n",
    "        for channel in hog_channel:\n",
    "            features.append(hog_short(feat_img[:,:,channel], feature_vector=feature_vector))\n",
    "\n",
    "        features = np.ravel(features)\n",
    "\n",
    "        # append features to return list\n",
    "        all_features.append(features)\n",
    "        \n",
    "    return all_features"
   ]
  },
  {
   "cell_type": "code",
   "execution_count": 39,
   "metadata": {
    "collapsed": true
   },
   "outputs": [],
   "source": [
    "# takes pathnames of images\n",
    "def hog_from_file_gray(pathnames, feature_vector=True):\n",
    "    all_features = []\n",
    "    \n",
    "    for image_path in pathnames:\n",
    "        # read images one by one\n",
    "        image = cv2.imread(image_path)\n",
    "        feat_img = convert_color(image, 'GRAY')\n",
    "        \n",
    "        features = hog_short(feat_img)\n",
    "\n",
    "        features = np.ravel(features)\n",
    "\n",
    "        # append features to return list\n",
    "        all_features.append(features)\n",
    "        \n",
    "    return all_features"
   ]
  },
  {
   "cell_type": "code",
   "execution_count": 40,
   "metadata": {
    "collapsed": true
   },
   "outputs": [],
   "source": [
    "# takes images as a np.array / list of np.array's\n",
    "def hog_from_list(imgs, hog_channel=[0,1,2], cspace='YCrCb', feature_vector=True):\n",
    "    all_features = []\n",
    "    \n",
    "    for img in imgs:\n",
    "        image = np.copy(img)\n",
    "        \n",
    "        # convert color space to desired one\n",
    "        feat_img = convert_color(image, cspace)\n",
    "            \n",
    "        # extract features from single image\n",
    "        \n",
    "        features = []\n",
    "\n",
    "        for channel in hog_channel:\n",
    "            features.append(hog_short(feat_img[:,:,channel], feature_vector=feature_vector))\n",
    "\n",
    "        features = np.ravel(features)\n",
    "\n",
    "        # append features to return list\n",
    "        all_features.append(features)\n",
    "        \n",
    "    return all_features"
   ]
  },
  {
   "cell_type": "code",
   "execution_count": 41,
   "metadata": {
    "collapsed": true
   },
   "outputs": [],
   "source": [
    "# takes images as a np.array / list of np.array's\n",
    "def hog_from_list_gray(imgs, feature_vector=True):\n",
    "    all_features = []\n",
    "    \n",
    "    for img in imgs:\n",
    "        feat_img = np.copy(img)\n",
    "        \n",
    "        features = hog_short(feat_img)\n",
    "\n",
    "        features = np.ravel(features)\n",
    "\n",
    "        # append features to return list\n",
    "        all_features.append(features)\n",
    "        \n",
    "    return all_features"
   ]
  },
  {
   "cell_type": "code",
   "execution_count": 44,
   "metadata": {
    "collapsed": true,
    "scrolled": false
   },
   "outputs": [],
   "source": [
    "def trainSVC(pos_examples, neg_examples, hog_channel=[0,1,2], cspace='GRAY', savename='_'):\n",
    "    # time stamp before feature extraction\n",
    "    t1 = time.time()\n",
    "\n",
    "    # extracting HOG features of cars and non-cars\n",
    "    print('SVM: using {} positive and {} negative examples'.format(len(pos_examples), len(neg_examples)))\n",
    "    print('SVM: extracting features...')\n",
    "    if cspace is 'GRAY':\n",
    "        pos_features = hog_from_file_gray(pos_examples)\n",
    "        neg_features = hog_from_file_gray(neg_examples)\n",
    "\n",
    "    else:\n",
    "        pos_features = hog_from_file(pos_examples, hog_channel=hog_channel, cspace=cspace)\n",
    "        neg_features = hog_from_file(neg_examples, hog_channel=hog_channel, cspace=cspace)\n",
    "\n",
    "    # feature vectors stack\n",
    "    X = np.vstack((pos_features, neg_features)).astype(np.float64)\n",
    "    # feature normalize\n",
    "    print('SVM: normalizing features...')\n",
    "    X_scaler = StandardScaler().fit(X)\n",
    "    # apply normalization to X\n",
    "    scaled_X = X_scaler.transform(X)\n",
    "    \n",
    "    # reduce features with pca\n",
    "    pca = decomposition.PCA(n_components=1000)\n",
    "    pca.fit(scaled_X)\n",
    "    scaled_X = pca.transform(scaled_X)\n",
    "\n",
    "\n",
    "    # labels vector\n",
    "    y = np.hstack((np.ones(len(pos_features)), np.zeros(len(neg_features))))\n",
    "    \n",
    "    # time stamp after feature extraction\n",
    "    t2 = time.time()\n",
    "    print('{} seconds to create {} feature vectors of size {}'.format(round(t2-t1, 5), len(scaled_X), len(scaled_X[0])))\n",
    "\n",
    "    \n",
    "    \n",
    "    #--------------------------------------------------------------------------------------------------#\n",
    "    \n",
    "    \n",
    "    \n",
    "    # split training and test sets randomly\n",
    "    print('SVM: splitting train/validation data...')\n",
    "    rand_state = np.random.randint(0,100)\n",
    "    X_train, X_test, y_train, y_test = train_test_split(scaled_X, y, test_size=0.1, random_state=rand_state)\n",
    "\n",
    "    # create linear svc object\n",
    "    print('SVM: Training model...')\n",
    "    svc = LinearSVC()\n",
    "\n",
    "    # create time stamps before and after training\n",
    "    t1 = time.time()\n",
    "    svc.fit(X_train, y_train)\n",
    "    t2 = time.time()\n",
    "    print(round(t2-t1, 2), 'Seconds to train SVM...')\n",
    "    print('Test Accuracy of SVC = ', round(svc.score(X_test, y_test), 4))\n",
    "    \n",
    "    print('SVM: Saving model...')\n",
    "    joblib.dump(svc, 'svm_'+savename+'.pkl')\n",
    "    print('svm'+savename+'.pkl saved.')\n",
    "    joblib.dump(X_scaler, 'svm_scaler_'+savename+'.pkl')\n",
    "    print('svm_scaler_'+savename+'.pkl saved.')\n",
    "    joblib.dump(pca, 'svm_pca_'+savename+'.pkl')\n",
    "    print('svm_pca_'+savename+'.pkl saved.')\n",
    "    print('Done.')\n",
    "    \n",
    "    return svc, X_scaler, X_test, y_test"
   ]
  },
  {
   "cell_type": "code",
   "execution_count": 45,
   "metadata": {},
   "outputs": [
    {
     "name": "stdout",
     "output_type": "stream",
     "text": [
      "SVM: using 8792 positive and 8968 negative examples\n",
      "SVM: extracting features...\n"
     ]
    },
    {
     "name": "stderr",
     "output_type": "stream",
     "text": [
      "C:\\Users\\ms\\Anaconda3\\lib\\site-packages\\skimage\\feature\\_hog.py:119: skimage_deprecation: Default value of `block_norm`==`L1` is deprecated and will be changed to `L2-Hys` in v0.15\n",
      "  'be changed to `L2-Hys` in v0.15', skimage_deprecation)\n"
     ]
    },
    {
     "name": "stdout",
     "output_type": "stream",
     "text": [
      "SVM: normalizing features...\n",
      "102.31971 seconds to create 17760 feature vectors of size 1000\n",
      "SVM: splitting train/validation data...\n",
      "SVM: Training model...\n",
      "6.79 Seconds to train SVM...\n",
      "Test Accuracy of SVC =  0.9465\n",
      "SVM: Saving model...\n",
      "svmgtest.pkl saved.\n",
      "svm_scaler_gtest.pkl saved.\n",
      "svm_pca_gtest.pkl saved.\n",
      "Done.\n"
     ]
    }
   ],
   "source": [
    "svc, scaler_X, X_test, y_test = trainSVC(cars, non_cars, cspace='GRAY',savename='gtest')"
   ]
  },
  {
   "cell_type": "code",
   "execution_count": 46,
   "metadata": {},
   "outputs": [
    {
     "name": "stdout",
     "output_type": "stream",
     "text": [
      "Test Accuracy of SVC =  0.9465\n",
      "SVC predicts:  [ 1.  0.  1.  0.  1.  0.  0.  1.  0.  1.  1.  0.  0.  0.  0.]\n",
      "Labels         [ 1.  0.  1.  0.  1.  0.  0.  1.  0.  1.  1.  0.  0.  0.  0.]\n",
      "0.0 Seconds to predict 15 labels with SVC\n"
     ]
    }
   ],
   "source": [
    "# check the score of SVC\n",
    "print('Test Accuracy of SVC = ', round(svc.score(X_test, y_test), 4))\n",
    "# check the prediction time for a single sample\n",
    "t=time.time()\n",
    "numb_predict = 15\n",
    "print('SVC predicts: ', svc.predict(X_test[0:numb_predict]))\n",
    "print('Labels        ', y_test[0:numb_predict])\n",
    "t2 = time.time()\n",
    "print(round(t2-t, 5), 'Seconds to predict', numb_predict,'labels with SVC')"
   ]
  },
  {
   "cell_type": "code",
   "execution_count": null,
   "metadata": {
    "collapsed": true
   },
   "outputs": [],
   "source": [
    "test = cv2.imread()"
   ]
  },
  {
   "cell_type": "code",
   "execution_count": null,
   "metadata": {
    "collapsed": true
   },
   "outputs": [],
   "source": []
  }
 ],
 "metadata": {
  "kernelspec": {
   "display_name": "Python 3",
   "language": "python",
   "name": "python3"
  },
  "language_info": {
   "codemirror_mode": {
    "name": "ipython",
    "version": 3
   },
   "file_extension": ".py",
   "mimetype": "text/x-python",
   "name": "python",
   "nbconvert_exporter": "python",
   "pygments_lexer": "ipython3",
   "version": "3.6.1"
  }
 },
 "nbformat": 4,
 "nbformat_minor": 2
}
